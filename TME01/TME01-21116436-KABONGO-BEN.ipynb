{
 "cells": [
  {
   "cell_type": "markdown",
   "id": "1e8367b7",
   "metadata": {},
   "source": [
    "# Machine Learning\n",
    "\n",
    "## TME 01 - Arbres de décision, sélection de modèles"
   ]
  },
  {
   "cell_type": "markdown",
   "id": "b99589ce",
   "metadata": {},
   "source": [
    "**Ben KABONGO**, M1 DAC, Sorbonne Université, 2022-2023"
   ]
  },
  {
   "cell_type": "code",
   "execution_count": 1,
   "id": "acf01c15",
   "metadata": {},
   "outputs": [],
   "source": [
    "import numpy as np\n",
    "import pandas as pd\n",
    "import matplotlib.pyplot as plt\n",
    "from sklearn import tree, metrics, model_selection\n",
    "\n",
    "plt.style.use('seaborn-whitegrid')"
   ]
  },
  {
   "cell_type": "markdown",
   "id": "8545d64d",
   "metadata": {},
   "source": [
    "## I.  L’essentiel sur les arbres de décision\n",
    "\n",
    "Un arbre de décision est un modèle de classification hiérarchique.\n",
    "\n",
    "Pour des exemples sous la représentation $x = (x_1, x_2, . . . , x_d) ∈ R^d$, à chaque nœud de l’arbre est associé un test sur une des dimensions $x_i$ de la forme $x_i \\le s$ avec $s$ une valeur réelle. Ce test indique le nœud fils qui doit être sélectionné (par exemple pour un arbre binaire, le fils gauche quand le test est vrai, le fils droit sinon).\n",
    "\n",
    "À chaque feuille de l’arbre est associée une étiquette. Ainsi, la classification d’un exemple consiste en une succession de tests sur les valeurs des dimensions de l’exemple, selon un chemin dans l’arbre de la racine à une des feuilles. La feuille atteinte donne la classe prédite.\n",
    "\n",
    "L’apprentissage de l’arbre s’effectue de manière récursive gloutonne top-down : à chaque nœud, l’algorithme doit choisir un test optimal, c’est-à-dire à la fois sur quelle dimension faire le test et quel seuillage appliqué (ce qu’on appelle un split). \n",
    "\n",
    "La mesure d’optimalité est en général une mesure d’homogénéité sur la partition obtenue, usuellement l’entropie de Shanon ou l’index de Gini. L’entropie d’une partition est d’autant plus petite qu’une classe prédomine dans chaque sous-ensemble de la partition, elle est nulle lorsque la séparation est parfaite (un seul label présent dans chacune des partitions) et maximale lorsque l’ensemble est le plus désordonné possible (équiprobabilité des labels dans chaque partition).\n",
    "\n",
    "Pour calculer le split optimal, chaque dimension de l’espace de description est considérée itérativement ; pour une dimension $i$, les exemples sont triés par rapport à la valeur de l’attribut de cette dimension $x_i$, puis pour chaque split possible, le calcul de l’homogénéité des deux partitions obtenues (en termes de label) par ce split est effectué. Le split ayant la meilleure homogénéité est alors choisi.\n",
    "\n",
    "Bien que l’algorithme pourrait continuer récursivement jusqu’à n’obtenir que des feuilles contenant un ensemble pur d’exemples (d’une seule classe), on utilise souvent des critères d’arrêts (pourquoi ? - nous y reviendrons lors de ce TP). Les plus utilisés sont le nombre d’exemples minimum que doit contenir un nœud pour être divisé (critère local) et la profondeur maximale de l’arbre (critère global).\n"
   ]
  },
  {
   "cell_type": "markdown",
   "id": "32e1b3ca",
   "metadata": {},
   "source": [
    "### Entropie\n",
    "\n",
    "Le but de cet exercice est d’implémenter les fonctions utiles au calcul du partitionnement optimal, i.e. les fonctions de calcul d’entropie. \n",
    "\n",
    "_Ne passer pas trop de temps sur cette partie! Passer si vous n’y arrivez pas. Il n’est pas nécessaire de coder ces fonctions pour la suite du TME._"
   ]
  },
  {
   "cell_type": "markdown",
   "id": "4c26c5bb",
   "metadata": {},
   "source": [
    "Soit un objet itérable $vect$ (une liste ou un vecteur numpy par exemple) qui contient une liste de label. Coder une fonction **entropie(vect)** qui calcule l’entropie de ce vecteur : $$H(Y) = −\\sum_{y \\in Y} p_ylog(p_y)$$ $p_y$ correspond à la probabilité du label $y$ dans le vecteur vect. \n",
    "\n",
    "_Penser à utiliser l’objet Counter du module collections qui permet de faire un histogramme des éléments d’une liste._"
   ]
  },
  {
   "cell_type": "code",
   "execution_count": 2,
   "id": "e877b3ee",
   "metadata": {},
   "outputs": [],
   "source": [
    "def entropy(vect):\n",
    "    y, c = np.unique(vect, return_counts=True)\n",
    "    py = c / c.sum()\n",
    "    return -(py * np.log(py)).sum()"
   ]
  },
  {
   "cell_type": "code",
   "execution_count": 3,
   "id": "d184bfed",
   "metadata": {},
   "outputs": [
    {
     "data": {
      "text/plain": [
       "0.6931471805599453"
      ]
     },
     "execution_count": 3,
     "metadata": {},
     "output_type": "execute_result"
    }
   ],
   "source": [
    "entropy([1, 1, 2, 2])"
   ]
  },
  {
   "cell_type": "markdown",
   "id": "593c391c",
   "metadata": {},
   "source": [
    "L’entropie conditionnelle permet de calculer l’homogénéité de la partition obtenue. Dans le cas général d’un split n-aire en $n$ partitions $P = \\{P_1, . . . , P_n\\}$, l’entropie conditionnelle à P s’écrit $$H(Y|P)= \\sum_i p(P_i) H(Y|P_i)$$ avec $$H(Y|P_i)=- \\sum_{y \\in Y} p(y|P_i)log(p(y|P_i))$$ l’entropie des labels conditionnée à la partition considérée et $$p(P_i) = \\frac{|P_i|}{\\sum_j |P_j|}$$ la proportion d’éléments dans $P_i$. Il s’agit en fait de la moyenne pondérée des entropies des sous-ensembles obtenus.\n",
    "\n",
    "Coder la fonction **entropie_cond(list_vect)** qui à partir d’une liste de listes de labels (la partition des labels), calcule l’entropie conditionnelle de la partition."
   ]
  },
  {
   "cell_type": "code",
   "execution_count": 4,
   "id": "8be4e5fa",
   "metadata": {},
   "outputs": [],
   "source": [
    "def entropie_cond(list_vect):\n",
    "    ppi = np.array([len(vect) for vect in list_vect])\n",
    "    ppi = ppi / ppi.sum()\n",
    "    hypi = np.array([entropy(vect) for vect in list_vect])\n",
    "    return (ppi * hypi).sum()"
   ]
  },
  {
   "cell_type": "markdown",
   "id": "0b4c0494",
   "metadata": {},
   "source": [
    "Le code suivant permet de charger un extrait de la base imdb (à télécharger sur le site de l’ue).\n",
    "\n",
    "Chaque ligne du tableau data correspond à la description d’un film (le titre dans id2titles, chaque colonne à un attribut (dont la signification est donnée par fields). \n",
    "\n",
    "La plupart sont des genres (action, comédie, ...), la valeur 1 indique l’appartenance du film au genre, 0 sinon. Les dernières colonnes concernent l’année de production, la durée du film, le budget, le nombre de vote et la note moyenne attribuée au film. On binarise la note moyenne afin d’avoir deux classes, les films de note supérieure à 6.5, et les autres (vecteur datay)."
   ]
  },
  {
   "cell_type": "code",
   "execution_count": 5,
   "id": "89cddeb4",
   "metadata": {},
   "outputs": [],
   "source": [
    "import pickle\n",
    "import numpy as np\n",
    "# data : tableau (films ,features), id2titles : dictionnaire id -> titre , # fields : id feature -> nom\n",
    "[data, id2titles, fields] = pickle.load(open(\"imdb_extrait.pkl\",\"rb\"))\n",
    "# la derniere colonne est le vote\n",
    "datax = data[:,:32]\n",
    "datay = np.array([1 if x[33]>6.5 else -1 for x in data])"
   ]
  },
  {
   "cell_type": "code",
   "execution_count": 6,
   "id": "e63aeda5",
   "metadata": {},
   "outputs": [
    {
     "name": "stdout",
     "output_type": "stream",
     "text": [
      "(4587, 32)\n",
      "[[0.0000e+00 0.0000e+00 0.0000e+00 0.0000e+00 0.0000e+00 1.0000e+00\n",
      "  0.0000e+00 0.0000e+00 0.0000e+00 0.0000e+00 0.0000e+00 0.0000e+00\n",
      "  0.0000e+00 0.0000e+00 0.0000e+00 0.0000e+00 0.0000e+00 0.0000e+00\n",
      "  1.0000e+00 0.0000e+00 0.0000e+00 0.0000e+00 0.0000e+00 1.0000e+00\n",
      "  0.0000e+00 0.0000e+00 0.0000e+00 0.0000e+00 1.0800e+02 2.0000e+00\n",
      "  1.9880e+03 1.2324e+07]\n",
      " [0.0000e+00 0.0000e+00 1.0000e+00 0.0000e+00 0.0000e+00 1.0000e+00\n",
      "  0.0000e+00 0.0000e+00 0.0000e+00 0.0000e+00 0.0000e+00 0.0000e+00\n",
      "  0.0000e+00 0.0000e+00 0.0000e+00 0.0000e+00 0.0000e+00 1.0000e+00\n",
      "  0.0000e+00 0.0000e+00 0.0000e+00 0.0000e+00 0.0000e+00 0.0000e+00\n",
      "  0.0000e+00 0.0000e+00 0.0000e+00 0.0000e+00 9.5000e+01 2.0000e+00\n",
      "  2.0090e+03 7.5000e+06]]\n"
     ]
    }
   ],
   "source": [
    "print(datax.shape)\n",
    "print(datax[:2])"
   ]
  },
  {
   "cell_type": "code",
   "execution_count": 7,
   "id": "08f53039",
   "metadata": {},
   "outputs": [
    {
     "name": "stdout",
     "output_type": "stream",
     "text": [
      "4587\n",
      "0 \t: 'Crocodile' Dundee II\n",
      "1 \t: (500) Days of Summer\n",
      "2 \t: ...E tu vivrai nel terrore! L'aldilà\n",
      "3 \t: 10 Things I Hate About You\n",
      "4 \t: 10,000 BC\n"
     ]
    }
   ],
   "source": [
    "print(len(id2titles))\n",
    "for k, v in tuple(id2titles.items())[:5]:\n",
    "    print(k, '\\t:', v)"
   ]
  },
  {
   "cell_type": "code",
   "execution_count": 8,
   "id": "48984851",
   "metadata": {},
   "outputs": [
    {
     "data": {
      "text/plain": [
       "{0: 'Sci-Fi',\n",
       " 1: 'Crime',\n",
       " 2: 'Romance',\n",
       " 3: 'Animation',\n",
       " 4: 'Music',\n",
       " 5: 'Comedy',\n",
       " 6: 'War',\n",
       " 7: 'Horror',\n",
       " 8: 'Film-Noir',\n",
       " 9: 'Adult',\n",
       " 10: 'News',\n",
       " 11: 'Reality-TV',\n",
       " 12: 'Thriller',\n",
       " 13: 'Western',\n",
       " 14: 'Mystery',\n",
       " 15: 'Short',\n",
       " 16: 'Talk-Show',\n",
       " 17: 'Drama',\n",
       " 18: 'Action',\n",
       " 19: 'Documentary',\n",
       " 20: 'Musical',\n",
       " 21: 'History',\n",
       " 22: 'Family',\n",
       " 23: 'Adventure',\n",
       " 24: 'Fantasy',\n",
       " 25: 'Game-Show',\n",
       " 26: 'Sport',\n",
       " 27: 'Biography',\n",
       " 28: 'Duree',\n",
       " 29: 'couleur',\n",
       " 30: 'annee',\n",
       " 31: 'budget',\n",
       " 32: 'nb_votes',\n",
       " 33: 'rating'}"
      ]
     },
     "execution_count": 8,
     "metadata": {},
     "output_type": "execute_result"
    }
   ],
   "source": [
    "fields"
   ]
  },
  {
   "cell_type": "markdown",
   "id": "fac4c702",
   "metadata": {},
   "source": [
    "Calculer pour chaque attribut binaire l’entropie et l’entropie conditionnelle du vote selon la partition induite par l’attribut (les exemples dont la valeur de l’attribut est 1 vs les autres). Calculer également la différence entre l’entropie et l’entropie conditionnelle pour chaque attribut. A quoi correspond une valeur de 0 ? une valeur de 1 ? Quel est le meilleur attribut pour la première partition ?"
   ]
  },
  {
   "cell_type": "code",
   "execution_count": 9,
   "id": "db46bd26",
   "metadata": {},
   "outputs": [],
   "source": [
    "n = 28\n",
    "entropies = np.zeros(n)\n",
    "entropies_cond = np.zeros(n)\n",
    "for i in range(n):\n",
    "    entropies[i] = entropy(datax[:, i])\n",
    "    idxi0 = np.where(datax[:, i] == 0)[0]\n",
    "    idxi1 = np.where(datax[:, i] == 1)[0]\n",
    "    entropies_cond[i] = entropie_cond([datay[idxi0], datay[idxi1]])\n",
    "diff_entropies = entropies - entropies_cond"
   ]
  },
  {
   "cell_type": "markdown",
   "id": "feeb0982",
   "metadata": {},
   "source": [
    "`Lorsque la différence entre l'entropie et l'entropie conditionnelle est égale à 0, cela signifie que la connaissance de l'attribut n'apporte aucune information supplémentaire pour prédire la classe des exemples. Lorsque la différence est égale à 1, cela signifie que l'attribut permet de prédire parfaitement la classe des exemples.`\n",
    "\n",
    "`Le meilleur attribut pour la première partition est celui qui a la plus grande différence entre l'entropie et l'entropie conditionnelle, c'est-à-dire celui qui a le plus grand gain d'information.Le meilleur attribut pour la première partition est celui qui a la plus grande différence entre l'entropie et l'entropie conditionnelle, c'est-à-dire celui qui a le plus grand gain d'information.`"
   ]
  },
  {
   "cell_type": "code",
   "execution_count": 10,
   "id": "c973e765",
   "metadata": {},
   "outputs": [
    {
     "data": {
      "text/plain": [
       "(array([17,  5, 12, 18,  2,  1, 23,  0,  7, 24, 14, 22, 27,  6,  3, 21, 26,\n",
       "         4, 20, 13, 19,  8, 15, 16, 11, 10,  9, 25]),\n",
       " 0.051064687580500645)"
      ]
     },
     "execution_count": 10,
     "metadata": {},
     "output_type": "execute_result"
    }
   ],
   "source": [
    "idx_sort = diff_entropies.argsort()[::-1]\n",
    "idx_sort, diff_entropies[17]"
   ]
  },
  {
   "cell_type": "code",
   "execution_count": 11,
   "id": "266eec3b",
   "metadata": {},
   "outputs": [
    {
     "data": {
      "text/plain": [
       "'Drama'"
      ]
     },
     "execution_count": 11,
     "metadata": {},
     "output_type": "execute_result"
    }
   ],
   "source": [
    "fields[17]"
   ]
  },
  {
   "cell_type": "markdown",
   "id": "50fab2e8",
   "metadata": {},
   "source": [
    "## II. Quelques expériences préliminaires\n",
    "\n",
    "Nous utiliserons les conventions de **scikit-learn** dans la suite : les modèles d’apprentissage sont munis :\n",
    "- d’un constructeur (qui permet d’initialiser les paramètres, variables d’instance de l’objet)\n",
    "- d’une méthode **fit(data,labels)** qui permet d’apprendre le modèle sur les données en paramètre\n",
    "- d’une méthode **predict(data)** qui permet d’obtenir un vecteur de prédiction pour les données passées en paramètre \n",
    "- d’une méthode **score(data,labels)** qui permet de renvoyer le pourcentage de bonne classification des données par rapport aux labels passés en paramètre.\n",
    "\n",
    "Le code suivant permet de créer, d’apprendre un arbre de décision et de l’utiliser :"
   ]
  },
  {
   "cell_type": "code",
   "execution_count": 12,
   "id": "9c5fcd45",
   "metadata": {},
   "outputs": [
    {
     "name": "stdout",
     "output_type": "stream",
     "text": [
      "0.736647045999564\n"
     ]
    },
    {
     "data": {
      "text/plain": [
       "True"
      ]
     },
     "execution_count": 12,
     "metadata": {},
     "output_type": "execute_result"
    }
   ],
   "source": [
    "from sklearn.tree import export_graphviz\n",
    "from sklearn.tree import DecisionTreeClassifier\n",
    "import pydotplus\n",
    "\n",
    "id2genre = [x[1] for x in sorted(fields.items())[:-2]]\n",
    "dt = DecisionTreeClassifier()\n",
    "dt.max_depth = 5 #on fixe la taille max de l’arbre a 5 \n",
    "dt.min_samples_split = 2 #nombre minimum d’exemples pour spliter un noeud \n",
    "dt.fit(datax ,datay)\n",
    "dt.predict(datax[:5,:])\n",
    "print(dt.score(datax,datay))\n",
    "\n",
    "# utiliser http://www.webgraphviz.com/ par exemple ou https://dreampuf.github.io/Graphviz export_graphviz(dt, out_file=\"/tmp/tree.dot\",feature_names=id2genre)\n",
    "# ou avec pydotplus\n",
    "tdot = export_graphviz(dt,feature_names=id2genre)\n",
    "pydotplus.graph_from_dot_data(tdot).write_pdf('tree.pdf')"
   ]
  },
  {
   "cell_type": "markdown",
   "id": "b8e7cef9",
   "metadata": {},
   "source": [
    "Sur la base de données imdb, apprendre quelques arbres de profondeurs différentes. Visualiser-les. Que remarquez-vous quant au nombre d’exemples séparés à chaque niveau en fonction de la profondeur ? est-ce normal ?\n",
    "\n",
    "Calculer les scores de bonne classification. Comment ils évoluent en fonction de la profondeur ? Est-ce normal ?\n",
    "`Le score de bonne classification en entrainement augmentent avec la profondeur maximale de l'arbre de décision. Cela est tout à fait compréhensible : plus la profondeur augmente, plus l'arbre est capable de correctemet repartir les données d'apprentissage. Il est alors nécessaire de tester l'arbre appris sur des données de test afin d'être sûr que l'on ne surapprend pas.`\n",
    "\n",
    "Ces scores sont-ils un indicateur fiable du comportement de l’algorithme ? Comment obtenir un indicateur plus fiable ? `Les scores obtenus en entrainement ne sont pas complètement fiables. Un score en entrainement très bas dénote d'un sous-apprentissage du modèle. Cependant, un score élevé n'est pas forcément indicateur d'un excellent modèle. En effet, il est nécessaire d'avoir des données de test sur lesquelles éprouver le modèle appris en entraînement. Un score haut en apprentissage et faible en test dénote ainsi d'un sur-apprentissage. Un modèle acceptable présente un bon score en apprentissage et un bon score en test.`"
   ]
  },
  {
   "cell_type": "code",
   "execution_count": 13,
   "id": "d4761fd1",
   "metadata": {},
   "outputs": [
    {
     "name": "stdout",
     "output_type": "stream",
     "text": [
      "Train shape : (3210, 32)\n",
      "Test shape : (1377, 32)\n"
     ]
    }
   ],
   "source": [
    "X_train, X_test, y_train, y_test = model_selection.train_test_split(\n",
    "    datax, datay, test_size=0.3, random_state=42\n",
    ")\n",
    "print('Train shape :', X_train.shape)\n",
    "print('Test shape :', X_test.shape)"
   ]
  },
  {
   "cell_type": "code",
   "execution_count": 14,
   "id": "2252f6b9",
   "metadata": {},
   "outputs": [
    {
     "name": "stdout",
     "output_type": "stream",
     "text": [
      "-----------------------------------------------\n",
      "depth = 2\n",
      "Train accuracy = 0.6825545171339564\n",
      "Test accuracy = 0.6862745098039216\n",
      "-----------------------------------------------\n",
      "depth = 3\n",
      "Train accuracy = 0.7168224299065421\n",
      "Test accuracy = 0.7138707334785767\n",
      "-----------------------------------------------\n",
      "depth = 4\n",
      "Train accuracy = 0.7314641744548287\n",
      "Test accuracy = 0.7320261437908496\n",
      "-----------------------------------------------\n",
      "depth = 5\n",
      "Train accuracy = 0.7423676012461059\n",
      "Test accuracy = 0.7342047930283224\n",
      "-----------------------------------------------\n",
      "depth = 6\n",
      "Train accuracy = 0.7576323987538941\n",
      "Test accuracy = 0.7240377632534495\n",
      "-----------------------------------------------\n",
      "depth = 7\n",
      "Train accuracy = 0.7728971962616823\n",
      "Test accuracy = 0.7247639796659404\n",
      "-----------------------------------------------\n",
      "depth = 8\n",
      "Train accuracy = 0.7912772585669782\n",
      "Test accuracy = 0.7269426289034132\n",
      "-----------------------------------------------\n",
      "depth = 9\n",
      "Train accuracy = 0.8137071651090343\n",
      "Test accuracy = 0.7167755991285403\n",
      "-----------------------------------------------\n",
      "depth = 10\n",
      "Train accuracy = 0.8401869158878504\n",
      "Test accuracy = 0.7124183006535948\n"
     ]
    }
   ],
   "source": [
    "for depth in range(2,11):\n",
    "    model = DecisionTreeClassifier(max_depth=depth)\n",
    "    model.fit(X_train, y_train)\n",
    "    print('-----------------------------------------------')\n",
    "    print('depth =', depth)\n",
    "    print('Train accuracy =', model.score(X_train, y_train))\n",
    "    print('Test accuracy =', model.score(X_test, y_test))\n",
    "    # pydot  \n",
    "    tdot = export_graphviz(model,feature_names=id2genre)\n",
    "    pydotplus.graph_from_dot_data(tdot).write_pdf(f'tree_depth_{depth}.pdf')"
   ]
  },
  {
   "cell_type": "markdown",
   "id": "3be508ba",
   "metadata": {},
   "source": [
    "## III. Sur et sous apprentissage\n",
    "\n",
    "Pour obtenir une meilleure estimation de l’erreur du classifieur appris, il est usuel d’utiliser deux ensembles d’exemples étiquetés :\n",
    "- l’ensemble d’apprentissage : l’apprentissage du classifieur ne se fait que sur ce sous-ensemble d’exemples ;\n",
    "- l’ensemble de test : cet ensemble sert à évaluer l’erreur du classifieur.\n",
    "\n",
    "Ces deux sous-ensembles sont tirés de manière aléatoire en faisant une partition en 2 parties des exemples disponibles. L’erreur faîte sur l’ensemble d’apprentissage s’appelle l’erreur d’apprentissage, celle sur l’ensemble de test l’erreur de test.\n",
    "\n",
    "Pour différents partitionnement, par exemple des partages en $(0.2,0.8),(0.5,0.5),(0.8,0.2)$, tracer les courbes de l’erreur en apprentissage et de l’erreur en test en fonction de la profondeur du modèle."
   ]
  },
  {
   "cell_type": "code",
   "execution_count": 15,
   "id": "9bf438a3",
   "metadata": {},
   "outputs": [
    {
     "name": "stdout",
     "output_type": "stream",
     "text": [
      "[[[0.31425457 0.32570806]\n",
      "  [0.25838103 0.2962963 ]\n",
      "  [0.25020442 0.2788671 ]\n",
      "  [0.19351322 0.28213508]\n",
      "  [0.14091033 0.291939  ]\n",
      "  [0.04006541 0.32135076]\n",
      "  [0.00572363 0.32352941]\n",
      "  [0.         0.32570806]]\n",
      "\n",
      " [[0.31007414 0.32258065]\n",
      "  [0.27213258 0.26809067]\n",
      "  [0.25381596 0.29555362]\n",
      "  [0.16921064 0.31560593]\n",
      "  [0.11251635 0.31255449]\n",
      "  [0.03445268 0.34263296]\n",
      "  [0.0043611  0.34176112]\n",
      "  [0.         0.34306888]]\n",
      "\n",
      " [[0.29225736 0.30681199]\n",
      "  [0.25736096 0.26920981]\n",
      "  [0.22246456 0.28283379]\n",
      "  [0.13631407 0.3013624 ]\n",
      "  [0.09051254 0.32125341]\n",
      "  [0.00327154 0.34250681]\n",
      "  [0.         0.33950954]\n",
      "  [0.         0.33188011]]]\n"
     ]
    }
   ],
   "source": [
    "sizes = [.2, .5, .8]\n",
    "depths = [2, 4, 5, 8, 10, 15, 20, 30]\n",
    "\n",
    "scores = np.zeros((len(sizes), len(depths), 2))\n",
    "\n",
    "for s, size in enumerate(sizes):\n",
    "    X_train, X_test, y_train, y_test = model_selection.train_test_split(\n",
    "        datax, datay, test_size=size, random_state=42\n",
    "    )\n",
    "    \n",
    "    for d, depth in enumerate(depths):\n",
    "        model = DecisionTreeClassifier(max_depth=depth)\n",
    "        model.fit(X_train, y_train)\n",
    "        scores[s, d, 0] = 1 - model.score(X_train, y_train)\n",
    "        scores[s, d, 1] = 1 - model.score(X_test, y_test)\n",
    "        \n",
    "print(scores)"
   ]
  },
  {
   "cell_type": "code",
   "execution_count": 16,
   "id": "8dd9b0f9",
   "metadata": {},
   "outputs": [
    {
     "data": {
      "image/png": "[encoded data removed]",
      "text/plain": [
       "<Figure size 640x480 with 1 Axes>"
      ]
     },
     "metadata": {},
     "output_type": "display_data"
    },
    {
     "data": {
      "image/png": "[encoded data removed]",
      "text/plain": [
       "<Figure size 640x480 with 1 Axes>"
      ]
     },
     "metadata": {},
     "output_type": "display_data"
    },
    {
     "data": {
      "image/png": "[encoded data removed]",
      "text/plain": [
       "<Figure size 640x480 with 1 Axes>"
      ]
     },
     "metadata": {},
     "output_type": "display_data"
    }
   ],
   "source": [
    "for s, size in enumerate(sizes):\n",
    "    plt.figure()\n",
    "    plt.title(f'Test size = {size}')\n",
    "    plt.plot(depths, scores[s, :, 0], c='b', label='Train')\n",
    "    plt.plot(depths, scores[s, :, 1], c='r', label='Test')\n",
    "    plt.xlabel('Depth')\n",
    "    plt.ylabel('Score')\n",
    "    #plt.xticks(depths)\n",
    "    plt.ylim(-0.1, 1.1)\n",
    "    plt.legend()\n",
    "    plt.show()"
   ]
  },
  {
   "cell_type": "markdown",
   "id": "7467eaa3",
   "metadata": {},
   "source": [
    "Que remarquez vous quand il y a peu d’exemples d’apprentissage ? Comment progresse l’erreur ? De même quand il y a beaucoup d’exemples d’apprentissage. Est-ce le même comportement pour les deux erreurs ?"
   ]
  },
  {
   "cell_type": "markdown",
   "id": "e53f0dab",
   "metadata": {},
   "source": [
    "`En apprentissage, plus il y a peu de données, plus un arbre qui donne des bonnes prédictions en apprentissage est vite appris pour des profondeurs de plus en plus petites. Il y a une correlation entre la taille des données d'apprentissage, le nombre de features et la profondeur de l'arbre que l'on veut obtenir.`\n",
    "`Quand le nombre d'exemples augmente, l'erreur est apprentissage est grand pour des petites profondeurs`"
   ]
  },
  {
   "cell_type": "markdown",
   "id": "9196b446",
   "metadata": {},
   "source": [
    "Vos résultats vous semblent ils fiables et stables ? Comment les améliorer ?"
   ]
  },
  {
   "cell_type": "markdown",
   "id": "eef1eb62",
   "metadata": {},
   "source": [
    "`Pas forcément fiables ou stables : en effet, il y a beaucoup d'aléatoire sur la façon de split les données test/train. Cet aléa peut ainsi favoriser les résultats de certains arbres plutôt que d'autres. Nécessité de contourner l'aléa.`"
   ]
  },
  {
   "cell_type": "markdown",
   "id": "91b9d19c",
   "metadata": {},
   "source": [
    "## IV. Validation croisée : sélection de modèle\n",
    "\n",
    "Il est rare de disposer en pratique d’un ensemble de test (on préfère inclure le plus grand nombre de données dans l’ensemble d’apprentissage). Pour sélectionner un modèle tout en considérant le plus grand nombre d’exemples possible pour l’apprentissage, on utilise généralement une procédure dite de sélection par validation croisée. Pour chaque paramétrisation de l’algorithme, une estimation de l’erreur empirique du classifieur appris est faîte selon la procédure suivante :\n",
    "\n",
    "- l’ensemble d’apprentissage $E_{app}$ est partitionné en $n$ ensembles d’apprentissage \\{$E_i$\\};\n",
    "- Pour $i = 1..n$\n",
    "    * l’arbre est appris sur $E_{app}$\\$E_i$\n",
    "    \n",
    "    * l’erreur en test $err(E_i)$ est évaluée sur $E_i$ (qui n’a pas servi à l’apprentissage à cette itération)\n",
    "    * l’erreur moyenne $err = \\frac{1}{n} \\sum_{i=1}^{n} err(E_i)$ est calculée, le modèle sélectionné est celui qui\n",
    "minimise cette erreur\n",
    "\n",
    "Refaire les expériences précédentes avec cette fois de la validation croisée (soit faîte à la main, soit en utilisant les fonctions de scikit-learn). Vous pouvez également étudier les autres hyper-paramètres du modèle (nombre minimal d’exemples par nœud, gain d’entropie minimal . . . )"
   ]
  },
  {
   "cell_type": "code",
   "execution_count": 17,
   "id": "d8d103af",
   "metadata": {},
   "outputs": [
    {
     "name": "stdout",
     "output_type": "stream",
     "text": [
      "Paramètres optimaux : {'max_depth': 6, 'min_samples_leaf': 8}\n",
      "Score : 0.7257467872645241\n"
     ]
    }
   ],
   "source": [
    "model = DecisionTreeClassifier()\n",
    "param_grid = {'max_depth': np.arange(1, 11), 'min_samples_leaf': np.arange(1, 11)}\n",
    "\n",
    "grid_search = model_selection.GridSearchCV(model, param_grid, cv=5)\n",
    "grid_search.fit(datax, datay)\n",
    "\n",
    "print('Paramètres optimaux :', grid_search.best_params_)\n",
    "print('Score :', grid_search.best_score_)"
   ]
  },
  {
   "cell_type": "code",
   "execution_count": null,
   "id": "289d4b39",
   "metadata": {},
   "outputs": [],
   "source": []
  }
 ],
 "metadata": {
  "kernelspec": {
   "display_name": "Python 3 (ipykernel)",
   "language": "python",
   "name": "python3"
  },
  "language_info": {
   "codemirror_mode": {
    "name": "ipython",
    "version": 3
   },
   "file_extension": ".py",
   "mimetype": "text/x-python",
   "name": "python",
   "nbconvert_exporter": "python",
   "pygments_lexer": "ipython3",
   "version": "3.9.13"
  }
 },
 "nbformat": 4,
 "nbformat_minor": 5
}
